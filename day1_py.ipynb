{
  "nbformat": 4,
  "nbformat_minor": 0,
  "metadata": {
    "colab": {
      "provenance": [],
      "authorship_tag": "ABX9TyOzwkhEhqSaaBXswD+0k7hO",
      "include_colab_link": true
    },
    "kernelspec": {
      "name": "python3",
      "display_name": "Python 3"
    },
    "language_info": {
      "name": "python"
    }
  },
  "cells": [
    {
      "cell_type": "markdown",
      "metadata": {
        "id": "view-in-github",
        "colab_type": "text"
      },
      "source": [
        "<a href=\"https://colab.research.google.com/github/Umar-Ali226/Python-Challenge/blob/main/day1_py.ipynb\" target=\"_parent\"><img src=\"https://colab.research.google.com/assets/colab-badge.svg\" alt=\"Open In Colab\"/></a>"
      ]
    },
    {
      "cell_type": "markdown",
      "source": [
        "## **Day 1 - Python Challenge: Print Your First Message!**"
      ],
      "metadata": {
        "id": "V6D8WO6Z34vF"
      }
    },
    {
      "cell_type": "code",
      "execution_count": null,
      "metadata": {
        "colab": {
          "base_uri": "https://localhost:8080/"
        },
        "id": "_alKUVbg3vA6",
        "outputId": "5cc6f9f8-71e6-4d00-a183-4444ada2cebd"
      },
      "outputs": [
        {
          "output_type": "stream",
          "name": "stdout",
          "text": [
            "Hello, Python Learners! It's me Umar Ali &\n",
            "Today is the first step in our coding journey.\n"
          ]
        }
      ],
      "source": [
        "message: str = \"Today is the first step in our coding journey.\"\n",
        "my_name: str = \"Umar Ali\"\n",
        "\n",
        "final_work = f\"\"\"Hello, Python Learners! It's me {my_name} &\n",
        "{message}\"\"\"\n",
        "\n",
        "print(final_work)"
      ]
    }
  ]
}