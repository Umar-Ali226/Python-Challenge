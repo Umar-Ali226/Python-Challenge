{
  "nbformat": 4,
  "nbformat_minor": 0,
  "metadata": {
    "colab": {
      "provenance": [],
      "authorship_tag": "ABX9TyOFK8964y8uhRkbseiaPcoS",
      "include_colab_link": true
    },
    "kernelspec": {
      "name": "python3",
      "display_name": "Python 3"
    },
    "language_info": {
      "name": "python"
    }
  },
  "cells": [
    {
      "cell_type": "markdown",
      "metadata": {
        "id": "view-in-github",
        "colab_type": "text"
      },
      "source": [
        "<a href=\"https://colab.research.google.com/github/Umar-Ali226/Python-Challenge/blob/main/day2.ipynb\" target=\"_parent\"><img src=\"https://colab.research.google.com/assets/colab-badge.svg\" alt=\"Open In Colab\"/></a>"
      ]
    },
    {
      "cell_type": "markdown",
      "source": [
        "## **Day 2 - Daily Python Challenge**"
      ],
      "metadata": {
        "id": "yfJCV_MGnscm"
      }
    },
    {
      "cell_type": "code",
      "source": [
        "user_input = input(\"enter your message:\")\n",
        "\n",
        "break_words = user_input.split()\n",
        "count_words = len(break_words)\n",
        "\n",
        "print(f\"{user_input}, Words in Sentence are : {count_words}\")"
      ],
      "metadata": {
        "colab": {
          "base_uri": "https://localhost:8080/"
        },
        "id": "GiIdi6A9kdFv",
        "outputId": "5ed08d6a-878d-4312-dbb5-32998b45edea"
      },
      "execution_count": 4,
      "outputs": [
        {
          "output_type": "stream",
          "name": "stdout",
          "text": [
            "enter your message:Python is Amazing\n",
            "Python is Amazing, Words in Sentence are : 3\n"
          ]
        }
      ]
    },
    {
      "cell_type": "markdown",
      "source": [
        "## **Day 2 - Optional Challenge**"
      ],
      "metadata": {
        "id": "BQN-7Axwn6vS"
      }
    },
    {
      "cell_type": "code",
      "source": [
        "optional = user_input.split()\n",
        "\n",
        "reverse_feild = optional.reverse()\n",
        "reverse_feild = ' '.join(optional)\n",
        "\n",
        "print(reverse_feild)"
      ],
      "metadata": {
        "colab": {
          "base_uri": "https://localhost:8080/"
        },
        "id": "5ylyoaBsm89G",
        "outputId": "2e80ff54-b5a4-49ce-d328-99a4bcb280f2"
      },
      "execution_count": 6,
      "outputs": [
        {
          "output_type": "stream",
          "name": "stdout",
          "text": [
            "Amazing is Python\n"
          ]
        }
      ]
    }
  ]
}